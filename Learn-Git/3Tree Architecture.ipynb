{
 "cells": [
  {
   "cell_type": "markdown",
   "id": "0044edd0",
   "metadata": {},
   "source": [
    "### The 3-Tree Architecture of Git\n",
    "\n",
    "Git's architecture is based on three main trees that represent different stages of your project. These trees help manage and track changes effectively:\n",
    "\n",
    "1. **Working Directory (Working Tree)**:\n",
    "    - This is the directory on your local machine where you make changes to your files.\n",
    "    - It reflects the current state of your project, including any modifications, additions, or deletions that have not yet been staged or committed.\n",
    "    - Files here can be in one of four states: untracked, unmodified, modified, or staged.    \n",
    "\n",
    "2. **Staging Area (Index)**:\n",
    "    - The staging area is an intermediate space where you prepare changes before committing them.\n",
    "    - When you use the `git add` command, changes from the working directory are moved to the staging area.\n",
    "    - It allows you to selectively stage changes, enabling you to create meaningful and atomic commits.\n",
    "\n",
    "3. **Repository (HEAD)**:\n",
    "    - The repository is the database where Git stores all committed changes.\n",
    "    - It represents the project's history and contains all snapshots of your files.\n",
    "    - The `HEAD` pointer refers to the latest commit in the current branch.\n"
   ]
  },
  {
   "cell_type": "markdown",
   "id": "5e79827e",
   "metadata": {},
   "source": [
    "### First Time Git Configuration \n"
   ]
  },
  {
   "cell_type": "markdown",
   "id": "2cfb0050",
   "metadata": {},
   "source": [
    "### Identity\n",
    "> ```$ git config --global user.name \"user name\"```  \n",
    "> ``$ git config --global user.email user@example.com``  \n",
    "\n",
    "### Configurations\n",
    "  \n",
    "> - ``$ git config --global`` # User (global) -> ~/.gitconfig  \n",
    "> - ``$ git config --system`` # System -> /etc/gitconfig  \n",
    "> - ``$ git config ``         # Project -> <project>/.git/conifg  \n",
    "\n",
    "### Text Editor\n",
    "> ```$ git config --global core.editor <choose a code editor>```\n",
    "\n",
    "### Color Output\n",
    "> ``$ git config --global color.ui true``"
   ]
  },
  {
   "cell_type": "markdown",
   "id": "986db22b",
   "metadata": {},
   "source": [
    "### Types of Files in Git\n",
    "1. **Untracked**: Files that exist in your working directory but are not yet tracked by Git. These files have not been staged or committed.  \n",
    "2. **Unmodified**: Files that are tracked by Git and have not been changed since the last commit.  \n",
    "3. **Modified**: Files that are tracked by Git but have been changed in the working directory since the last commit.  \n",
    "4. **Staged**: Files that have been added to the staging area using `git add` and are ready to be committed to the repository.\n",
    "\n",
    "### Workflow Between the Trees\n",
    "1. Modify files in the **Working Directory**.\n",
    "2. Stage changes using `git add` to move them to the **Staging Area**.\n",
    "3. Commit staged changes using `git commit` to save them in the **Repository**.\n",
    "\n",
    "This architecture ensures a clear separation of changes, making Git a powerful version control system."
   ]
  },
  {
   "cell_type": "markdown",
   "id": "d3fab14d",
   "metadata": {},
   "source": [
    "### adding certain file to the index\n",
    "> - ``git add <file.name>``                 \n",
    "\n",
    "### adding all edited files to the index\n",
    "> - ``git add .``                            \n",
    "\n",
    "### adding all files from index to git repo\n",
    "> - ``git commit -m \"Commit Message\"``       "
   ]
  },
  {
   "cell_type": "markdown",
   "id": "6fee1c7c",
   "metadata": {},
   "source": [
    "![alt text](image.png)"
   ]
  }
 ],
 "metadata": {
  "language_info": {
   "name": "python"
  }
 },
 "nbformat": 4,
 "nbformat_minor": 5
}
